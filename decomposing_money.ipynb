{
 "cells": [
  {
   "cell_type": "markdown",
   "metadata": {},
   "source": [
    "#Task 1: Decomposing The Money\n",
    "\n",
    "This python notebook takes an integer as input and decomposes it using grands, Benjamins, sawbucks, and bucks.\n",
    "-Prompt the user to enter an amount.\n",
    "-If between 1 and 9999, decompose the amount into grands, Benjamins, sawbucks, and bucks, then print the result, else explain the error to the user.\n"
   ]
  },
  {
   "cell_type": "code",
   "execution_count": 8,
   "metadata": {},
   "outputs": [
    {
     "name": "stdout",
     "output_type": "stream",
     "text": [
      "Invalid input, an integer between 1 and 9999.\n"
     ]
    }
   ],
   "source": [
    "while True:\n",
    "    try:\n",
    "        #Request a valid input from user\n",
    "        amount = int(input(\"Please enter an amount between 1 and 9999: \"))\n",
    "        #Check if value is valid\n",
    "        if (1 <= amount <= 9999):\n",
    "            break  #Break if within given range\n",
    "        else:\n",
    "            print(\"Integer should be an amount between 1 and 9999 dollars, Try again.\") #Explain error to user\n",
    "    except ValueError:  #Handle case where input is not an integer\n",
    "        print(\"Invalid input, please enter an integer between 1 and 9999.\")\n"
   ]
  },
  {
   "cell_type": "markdown",
   "metadata": {},
   "source": [
    "#Decomposition Logic\n",
    "Decompose the entered amount using integer division and modulus operations:\n",
    "\n",
    "1. Divide the amount by 1000 to get the number of grands.\n",
    "2. Get the remainder after dividing by 1000.\n",
    "3. Divide the remainder by 100 to get the number of Benjamins."
   ]
  },
  {
   "cell_type": "code",
   "execution_count": 7,
   "metadata": {},
   "outputs": [
    {
     "name": "stdout",
     "output_type": "stream",
     "text": [
      "1 grand\n",
      "0 Benjamins\n",
      "2 sawbucks\n",
      "4 bucks\n"
     ]
    }
   ],
   "source": [
    "grands = amount // 1000  #Amount of whole grands\n",
    "remainder = amount % 1000  #Remainder after the grands\n",
    "benjamins = remainder // 100  #Amount of whole Benjamins\n",
    "remainder = remainder % 100  #Remainder after the hundreds\n",
    "sawbucks = remainder // 10  #Reaminder after the tens\n",
    "bucks = remainder % 10  #Amount of bucks\n",
    "\n",
    "#In English, we add s at the end of a word as long as there is not 1 of them (E.g. 1 coin, 0 coins), which is weird, why do we treat 0 as plural?\n",
    "\n",
    "unit = \"grand\" + (\"s\" if grands != 1 else \"\") #Append s if integer not 1\n",
    "print(str(grands), unit) #Use the integer as a string and print, repeat below for benjamins sawbucks and bucks\n",
    "unit = \"Benjamin\" + (\"s\" if benjamins != 1 else \"\")\n",
    "print(str(benjamins), unit)\n",
    "unit = \"sawbuck\" + (\"s\" if sawbucks != 1 else \"\")\n",
    "print(str(sawbucks), unit)\n",
    "unit = \"buck\" + (\"s\" if bucks != 1 else \"\")\n",
    "print(str(bucks), unit)"
   ]
  }
 ],
 "metadata": {
  "kernelspec": {
   "display_name": "Python 3",
   "language": "python",
   "name": "python3"
  },
  "language_info": {
   "codemirror_mode": {
    "name": "ipython",
    "version": 3
   },
   "file_extension": ".py",
   "mimetype": "text/x-python",
   "name": "python",
   "nbconvert_exporter": "python",
   "pygments_lexer": "ipython3",
   "version": "3.11.3"
  },
  "orig_nbformat": 4
 },
 "nbformat": 4,
 "nbformat_minor": 2
}
