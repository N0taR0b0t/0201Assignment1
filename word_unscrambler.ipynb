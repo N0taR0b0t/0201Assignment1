{
 "cells": [
  {
   "cell_type": "markdown",
   "metadata": {},
   "source": [
    "Task 2: Unscramble Words\n",
    "\n",
    "This python notebook takes at least 3 letters and looks for unscrambled words containing those letters\n",
    "- The program prompts the user for at least 3 letters\n",
    "- The program processes the words in words.txt and returns relevant words of length 3, 4, 5, and 6\n"
   ]
  },
  {
   "cell_type": "code",
   "execution_count": 21,
   "metadata": {},
   "outputs": [],
   "source": [
    "with open(\"words.txt\", \"r\") as file:\n",
    "    sorted_words = set() #Creating an empty set for unique words\n",
    "    for word in file: #Iterate through entire file\n",
    "        stripped_word = word.strip() #Remove trailing and leading whitespace\n",
    "        lower_word = stripped_word.lower() #Convert all to lowercase letters\n",
    "        sorted_words.add(lower_word) #Add lowercase into set\n",
    "    words = list(sorted_words) #Convert set to list"
   ]
  },
  {
   "cell_type": "markdown",
   "metadata": {},
   "source": [
    "Once the data is processed and ready to be used, we prompt the user for a valid input\n",
    "A valid input"
   ]
  },
  {
   "cell_type": "code",
   "execution_count": 22,
   "metadata": {},
   "outputs": [],
   "source": [
    "def get_user_input():\n",
    "    while True:\n",
    "        input_word = input(\"Enter a word or type -1: \") #Prompt user for input\n",
    "        if (input_word == \"-1\"): #Allow the user to exit by typing -1\n",
    "            return None #Return nonetype to trigger the break\n",
    "        elif (len(input_word) < 3): #Require more than 3+ letters\n",
    "            print(\"Please enter a word with at least 3 characters.\") #Prompt user to try again\n",
    "        else:\n",
    "            return input_word[:20]  #Limit the input to 20 characters, that should be more than enough"
   ]
  },
  {
   "cell_type": "code",
   "execution_count": 23,
   "metadata": {},
   "outputs": [],
   "source": [
    "def unscramble_words(input_word, word_list):\n",
    "    input_letters = set(input_word) #Convert letters into a set to speed up the checking process\n",
    "    possible_words = [] #Initialize empty list to store matching words\n",
    "    for word in word_list: #Iterate through entire word list\n",
    "        if (set(word).issubset(input_letters)): #Check if input letters are a part of word\n",
    "            possible_words.append(word) #If so append to list\n",
    "    categorized = {\n",
    "        6: [word for word in possible_words if len(word) == 6],\n",
    "        5: [word for word in possible_words if len(word) == 5],\n",
    "        4: [word for word in possible_words if len(word) == 4],\n",
    "        3: [word for word in possible_words if len(word) == 3],\n",
    "    }\n",
    "    return categorized[6], categorized[5], categorized[4], categorized[3]"
   ]
  },
  {
   "cell_type": "code",
   "execution_count": 24,
   "metadata": {},
   "outputs": [
    {
     "name": "stdout",
     "output_type": "stream",
     "text": [
      "\n",
      "6 letters: ['bacaba']\n",
      "5 letters: ['abaca', 'bacca']\n",
      "4 letters: ['caba', 'acca', 'caca', 'baba', 'abac', 'abba']\n",
      "3 letters: ['cab', 'baa', 'bab', 'aba', 'bac', 'abb']\n",
      "Please enter a word with at least 3 characters.\n",
      "Exiting...\n"
     ]
    }
   ],
   "source": [
    "while True:\n",
    "    input_word = get_user_input() #Check if the user wants to exit or continue via input\n",
    "    if (not input_word):\n",
    "        print(\"Exiting...\") #Trigger Break\n",
    "        break\n",
    "    six, five, four, three = unscramble_words(input_word, words) #Call main fuction and store output by length\n",
    "    print() #Print all word results\n",
    "    print(\"6 letters:\", six)\n",
    "    print(\"5 letters:\", five)\n",
    "    print(\"4 letters:\", four)\n",
    "    print(\"3 letters:\", three)"
   ]
  }
 ],
 "metadata": {
  "kernelspec": {
   "display_name": "Python 3",
   "language": "python",
   "name": "python3"
  },
  "language_info": {
   "codemirror_mode": {
    "name": "ipython",
    "version": 3
   },
   "file_extension": ".py",
   "mimetype": "text/x-python",
   "name": "python",
   "nbconvert_exporter": "python",
   "pygments_lexer": "ipython3",
   "version": "3.11.3"
  },
  "orig_nbformat": 4
 },
 "nbformat": 4,
 "nbformat_minor": 2
}
